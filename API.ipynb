{
 "cells": [
  {
   "cell_type": "code",
   "execution_count": 49,
   "metadata": {},
   "outputs": [],
   "source": [
    "import requests"
   ]
  },
  {
   "cell_type": "code",
   "execution_count": 50,
   "metadata": {},
   "outputs": [
    {
     "name": "stdout",
     "output_type": "stream",
     "text": [
      "Mother Mash\n",
      "Borough Market\n",
      "The Mayfair Chippy\n",
      "Lanzhou Noodle Bar\n",
      "Dishoom\n",
      "The Golden Chippy\n",
      "Duck & Waffle Local\n",
      "Regency Café\n",
      "Bailey's Fish and Chips\n",
      "Flat Iron\n",
      "Burger & Lobster\n",
      "The Fat Bear\n",
      "Shoryu Ramen\n",
      "Ffiona's Restaurant\n",
      "Hook\n",
      "BAO - Soho\n",
      "Roti King\n",
      "Fish Bone\n",
      "Padella\n",
      "Wok to Walk\n"
     ]
    }
   ],
   "source": [
    "url = \"https://api.yelp.com/v3/businesses/search\"\n",
    "    \n",
    "api_key = \"tTmPcJxm5WwrPcgcX9jX6QIr140bLkxsSsEWEQZR-m5qknEISxNGa7I_20DPnOAZtl0cWh1qlWGNdUmr3_L5D72gFoH70xkD530Do9PAcTNpdzTGxnFBjsvPJwxkXXYx\"\n",
    "\n",
    "# Key and Value of main header request\n",
    "headers = {\n",
    "    \"Authorization\": \"Bearer \" + api_key\n",
    "}    \n",
    "\n",
    "# Parameters which the program will search for\n",
    "params = {\n",
    "    \"location\": \"London\",\n",
    "    \"term\": \"food\"\n",
    "}\n",
    "\n",
    "# Response takes in a header and params variable\n",
    "response = requests.get(url, headers = headers, params = params)\n",
    "#print(response.text)\n",
    "#print(response.json())\n",
    "\n",
    "# Getting a json of all the food businesses \n",
    "foodPlaces = response.json()[\"businesses\"]\n",
    "#print(business)\n",
    "\n",
    "# Printing out all the names of the food placess\n",
    "for place in foodPlaces:\n",
    "    print(place[\"name\"])\n",
    "\n",
    "\n",
    "\n"
   ]
  },
  {
   "cell_type": "code",
   "execution_count": 51,
   "metadata": {},
   "outputs": [
    {
     "name": "stdout",
     "output_type": "stream",
     "text": [
      "Mother Mash 4.0\n"
     ]
    }
   ],
   "source": [
    "# Find places rated 3.5 or better and store them in a list\n",
    "wellRated = [place[\"name\"] + \" \" + str(place[\"rating\"]) for place in foodPlaces if place[\"rating\"] > 3.5]\n",
    "#print(wellRated)\n",
    "\n",
    "# Print the name and rating of the first place in the list\n",
    "print(wellRated[0])"
   ]
  },
  {
   "cell_type": "code",
   "execution_count": null,
   "metadata": {},
   "outputs": [],
   "source": []
  },
  {
   "cell_type": "code",
   "execution_count": null,
   "metadata": {},
   "outputs": [],
   "source": []
  }
 ],
 "metadata": {
  "kernelspec": {
   "display_name": "Python 3",
   "language": "python",
   "name": "python3"
  },
  "language_info": {
   "codemirror_mode": {
    "name": "ipython",
    "version": 3
   },
   "file_extension": ".py",
   "mimetype": "text/x-python",
   "name": "python",
   "nbconvert_exporter": "python",
   "pygments_lexer": "ipython3",
   "version": "3.7.0"
  }
 },
 "nbformat": 4,
 "nbformat_minor": 2
}
